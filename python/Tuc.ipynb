{
 "cells": [
  {
   "cell_type": "markdown",
   "metadata": {},
   "source": [
    "# TuC Datenanalyse"
   ]
  },
  {
   "cell_type": "code",
   "execution_count": 27,
   "metadata": {},
   "outputs": [],
   "source": [
    "# load data\n",
    "%matplotlib inline\n",
    "import pandas as pd\n",
    "import seaborn as sns\n",
    "import matplotlib.pyplot as plt"
   ]
  },
  {
   "cell_type": "code",
   "execution_count": 28,
   "metadata": {},
   "outputs": [],
   "source": [
    "data = pd.read_csv('../data/order.tbl.short', sep='|')"
   ]
  },
  {
   "cell_type": "code",
   "execution_count": 13,
   "metadata": {},
   "outputs": [
    {
     "name": "stdout",
     "output_type": "stream",
     "text": [
      "Number of lines\n",
      " 199\n",
      "Header:\n",
      " ORDERKEY,CUSTKEY,ORDERSTATUS,TOTALPRICE,ORDERDATE,ORDERPRIORITY,CLERK,SHIPPRIORITY,COMMENT,Unnamed: 9\n",
      "First 3 rows:\n",
      "   ORDERKEY  CUSTKEY ORDERSTATUS  TOTALPRICE   ORDERDATE ORDERPRIORITY  \\\n",
      "0         1   468010           O   116666.88  1996-01-02         5-LOW   \n",
      "1         2   468010           O    19444.48  1996-01-02         5-LOW   \n",
      "2         3   468010           O   116666.88  1996-01-02      1-URGENT   \n",
      "\n",
      "             CLERK  SHIPPRIORITY  \\\n",
      "0  Clerk#000005704             0   \n",
      "1  Clerk#000005704             0   \n",
      "2  Clerk#000005704             0   \n",
      "\n",
      "                                             COMMENT  Unnamed: 9  \n",
      "0  jSmgxOi157kxm gCwQzgNOmiO0MkhCR4N BLj6OQBkl34k...         NaN  \n",
      "1  jP0BgO31m7Sw6LmC25k3RBw BmRkkjmzBCO4Qij67CN3mQ...         NaN  \n",
      "2  xxSzlw2hwnM10PijiOz2gP02Qh3OQgm02ykNOwPxhl xRM...         NaN  \n"
     ]
    }
   ],
   "source": [
    "# Overview\n",
    "number_of_rows = len(data)\n",
    "print('Number of lines: ', number_of_rows)\n",
    "header = data.columns.tolist()\n",
    "print('Header: ', ','.join(header))\n",
    "print('First 3 rows:')\n",
    "print(data[:3])"
   ]
  },
  {
   "cell_type": "markdown",
   "metadata": {},
   "source": [
    "## Cardinalities"
   ]
  },
  {
   "cell_type": "code",
   "execution_count": 25,
   "metadata": {},
   "outputs": [
    {
     "data": {
      "text/plain": [
       "<matplotlib.axes._subplots.AxesSubplot at 0x7f4769e4f7f0>"
      ]
     },
     "execution_count": 25,
     "metadata": {},
     "output_type": "execute_result"
    },
    {
     "data": {
      "image/png": "[encoded data removed]",
      "text/plain": [
       "<Figure size 432x288 with 1 Axes>"
      ]
     },
     "metadata": {},
     "output_type": "display_data"
    }
   ],
   "source": [
    "data['ORDERSTATUS'].value_counts().plot(kind='bar')"
   ]
  },
  {
   "cell_type": "code",
   "execution_count": 32,
   "metadata": {},
   "outputs": [
    {
     "data": {
      "text/plain": [
       "<matplotlib.axes._subplots.AxesSubplot at 0x7f476774b1d0>"
      ]
     },
     "execution_count": 32,
     "metadata": {},
     "output_type": "execute_result"
    },
    {
     "data": {
      "image/png": "[encoded data removed]",
      "text/plain": [
       "<Figure size 432x288 with 1 Axes>"
      ]
     },
     "metadata": {},
     "output_type": "display_data"
    }
   ],
   "source": [
    "sns.barplot(data['ORDERSTATUS'].value_counts())"
   ]
  },
  {
   "cell_type": "code",
   "execution_count": 34,
   "metadata": {},
   "outputs": [
    {
     "name": "stdout",
     "output_type": "stream",
     "text": [
      "\n",
      "\n",
      " ORDERKEY\n",
      "====================\n",
      "Distinct Values:  199\n",
      "\n",
      "\n",
      " CUSTKEY\n",
      "====================\n",
      "Distinct Values:  1\n",
      "\n",
      "\n",
      " ORDERSTATUS\n",
      "====================\n",
      "Distinct Values:  1\n",
      "\n",
      "\n",
      " TOTALPRICE\n",
      "====================\n",
      "Distinct Values:  7\n"
     ]
    },
    {
     "data": {
      "image/png": "[encoded data removed]",
      "text/plain": [
       "<Figure size 432x288 with 1 Axes>"
      ]
     },
     "metadata": {},
     "output_type": "display_data"
    },
    {
     "name": "stdout",
     "output_type": "stream",
     "text": [
      "\n",
      "\n",
      " ORDERDATE\n",
      "====================\n",
      "Distinct Values:  1\n",
      "\n",
      "\n",
      " ORDERPRIORITY\n",
      "====================\n",
      "Distinct Values:  5\n"
     ]
    },
    {
     "data": {
      "image/png": "[encoded data removed]",
      "text/plain": [
       "<Figure size 432x288 with 1 Axes>"
      ]
     },
     "metadata": {},
     "output_type": "display_data"
    },
    {
     "name": "stdout",
     "output_type": "stream",
     "text": [
      "\n",
      "\n",
      " CLERK\n",
      "====================\n",
      "Distinct Values:  1\n",
      "\n",
      "\n",
      " SHIPPRIORITY\n",
      "====================\n",
      "Distinct Values:  1\n",
      "\n",
      "\n",
      " COMMENT\n",
      "====================\n",
      "Distinct Values:  199\n",
      "\n",
      "\n",
      " Unnamed: 9\n",
      "====================\n",
      "Distinct Values:  0\n"
     ]
    }
   ],
   "source": [
    "for column in header:\n",
    "    print('\\n\\n', column)\n",
    "    print(20*'=')\n",
    "    distinct_values = len(data[column].value_counts())\n",
    "    print(\"Distinct Values: \", distinct_values)\n",
    "    if distinct_values < 0.1 * number_of_rows and distinct_values > 1:\n",
    "        try:\n",
    "            data[column].value_counts().plot(kind='bar', lw=10)\n",
    "            plt.show()\n",
    "        except:\n",
    "            print(\"Cannot plot\", column)"
   ]
  },
  {
   "cell_type": "code",
   "execution_count": null,
   "metadata": {},
   "outputs": [],
   "source": []
  }
 ],
 "metadata": {
  "kernelspec": {
   "display_name": "Python 3",
   "language": "python",
   "name": "python3"
  },
  "language_info": {
   "codemirror_mode": {
    "name": "ipython",
    "version": 3
   },
   "file_extension": ".py",
   "mimetype": "text/x-python",
   "name": "python",
   "nbconvert_exporter": "python",
   "pygments_lexer": "ipython3",
   "version": "3.6.5"
  }
 },
 "nbformat": 4,
 "nbformat_minor": 2
}
