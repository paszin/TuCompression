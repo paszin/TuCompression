{
 "cells": [
  {
   "cell_type": "markdown",
   "metadata": {},
   "source": [
    "# TuC Datenanalyse"
   ]
  },
  {
   "cell_type": "code",
   "execution_count": 1,
   "metadata": {},
   "outputs": [],
   "source": [
    "# load data\n",
    "%matplotlib inline\n",
    "from IPython.display import display\n",
    "import pandas as pd\n",
    "import seaborn as sns\n",
    "import matplotlib.pyplot as plt"
   ]
  },
  {
   "cell_type": "code",
   "execution_count": 2,
   "metadata": {},
   "outputs": [],
   "source": [
    "data = pd.read_csv('../data/order.tbl.short', sep='|')"
   ]
  },
  {
   "cell_type": "code",
   "execution_count": 48,
   "metadata": {},
   "outputs": [
    {
     "name": "stdout",
     "output_type": "stream",
     "text": [
      "Number of lines:  9000000\n",
      "Header:  ORDERKEY,CUSTKEY,ORDERSTATUS,TOTALPRICE,ORDERDATE,ORDERPRIORITY,CLERK,SHIPPRIORITY,COMMENT,Unnamed: 9\n",
      "First 3 rows:\n",
      "   ORDERKEY  CUSTKEY ORDERSTATUS  TOTALPRICE   ORDERDATE ORDERPRIORITY  \\\n",
      "0         1   468010           O   116666.88  1996-01-02         5-LOW   \n",
      "1         2   468010           O    19444.48  1996-01-02         5-LOW   \n",
      "2         3   468010           O   116666.88  1996-01-02      1-URGENT   \n",
      "\n",
      "             CLERK  SHIPPRIORITY  \\\n",
      "0  Clerk#000005704             0   \n",
      "1  Clerk#000005704             0   \n",
      "2  Clerk#000005704             0   \n",
      "\n",
      "                                             COMMENT  Unnamed: 9  \n",
      "0  jSmgxOi157kxm gCwQzgNOmiO0MkhCR4N BLj6OQBkl34k...         NaN  \n",
      "1  jP0BgO31m7Sw6LmC25k3RBw BmRkkjmzBCO4Qij67CN3mQ...         NaN  \n",
      "2  xxSzlw2hwnM10PijiOz2gP02Qh3OQgm02ykNOwPxhl xRM...         NaN  \n"
     ]
    }
   ],
   "source": [
    "# Overview\n",
    "number_of_rows = len(data)\n",
    "print('Number of lines: ', number_of_rows)\n",
    "header = data.columns.tolist()\n",
    "print('Header: ', ','.join(header))\n",
    "print('First 3 rows:')\n",
    "print(data[:3])"
   ]
  },
  {
   "cell_type": "markdown",
   "metadata": {},
   "source": [
    "## Cardinalities"
   ]
  },
  {
   "cell_type": "code",
   "execution_count": 49,
   "metadata": {},
   "outputs": [
    {
     "data": {
      "text/plain": [
       "<matplotlib.axes._subplots.AxesSubplot at 0x7f4768446ef0>"
      ]
     },
     "execution_count": 49,
     "metadata": {},
     "output_type": "execute_result"
    },
    {
     "data": {
      "image/png": "[encoded data removed]",
      "text/plain": [
       "<Figure size 432x288 with 1 Axes>"
      ]
     },
     "metadata": {},
     "output_type": "display_data"
    }
   ],
   "source": [
    "data['ORDERSTATUS'].value_counts().plot(kind='bar')"
   ]
  },
  {
   "cell_type": "code",
   "execution_count": 50,
   "metadata": {},
   "outputs": [
    {
     "data": {
      "text/plain": [
       "<matplotlib.axes._subplots.AxesSubplot at 0x7f4765d59438>"
      ]
     },
     "execution_count": 50,
     "metadata": {},
     "output_type": "execute_result"
    },
    {
     "data": {
      "image/png": "[encoded data removed]",
      "text/plain": [
       "<Figure size 432x288 with 1 Axes>"
      ]
     },
     "metadata": {},
     "output_type": "display_data"
    }
   ],
   "source": [
    "sns.barplot(data['ORDERSTATUS'].value_counts())"
   ]
  },
  {
   "cell_type": "markdown",
   "metadata": {},
   "source": [
    "## Unique Values per Column"
   ]
  },
  {
   "cell_type": "code",
   "execution_count": 9,
   "metadata": {},
   "outputs": [
    {
     "data": {
      "image/png": "[encoded data removed]",
      "text/plain": [
       "<Figure size 432x288 with 1 Axes>"
      ]
     },
     "metadata": {},
     "output_type": "display_data"
    }
   ],
   "source": [
    "ax = data.apply(pd.Series.nunique).plot(kind='bar', logy=True, title='Distict values per column')\n",
    "ax.set(xlabel=\"Columns\", ylabel=\"unique values (log scala)\")\n",
    "for p in ax.patches:\n",
    "    ax.annotate(str(p.get_height()), (p.get_x(), p.get_height() * 1.2))\n",
    "    \n",
    "    "
   ]
  },
  {
   "cell_type": "markdown",
   "metadata": {},
   "source": [
    "## Null Values per Column"
   ]
  },
  {
   "cell_type": "code",
   "execution_count": 13,
   "metadata": {},
   "outputs": [
    {
     "data": {
      "text/plain": [
       "ORDERKEY               0\n",
       "CUSTKEY                0\n",
       "ORDERSTATUS            0\n",
       "TOTALPRICE             0\n",
       "ORDERDATE              0\n",
       "ORDERPRIORITY          0\n",
       "CLERK                  0\n",
       "SHIPPRIORITY           0\n",
       "COMMENT                0\n",
       "Unnamed: 9       9000000\n",
       "dtype: int64"
      ]
     },
     "execution_count": 13,
     "metadata": {},
     "output_type": "execute_result"
    }
   ],
   "source": [
    "data.isnull().sum()"
   ]
  },
  {
   "cell_type": "code",
   "execution_count": 15,
   "metadata": {},
   "outputs": [
    {
     "data": {
      "text/plain": [
       "ORDERKEY           int64\n",
       "CUSTKEY            int64\n",
       "ORDERSTATUS       object\n",
       "TOTALPRICE       float64\n",
       "ORDERDATE         object\n",
       "ORDERPRIORITY     object\n",
       "CLERK             object\n",
       "SHIPPRIORITY       int64\n",
       "COMMENT           object\n",
       "Unnamed: 9       float64\n",
       "dtype: object"
      ]
     },
     "execution_count": 15,
     "metadata": {},
     "output_type": "execute_result"
    }
   ],
   "source": [
    "data.dtypes"
   ]
  },
  {
   "cell_type": "markdown",
   "metadata": {},
   "source": [
    "## Min & Max Values\n"
   ]
  },
  {
   "cell_type": "code",
   "execution_count": 19,
   "metadata": {},
   "outputs": [
    {
     "name": "stdout",
     "output_type": "stream",
     "text": [
      "Min Values:\n",
      "ORDERKEY                                                   1\n",
      "CUSTKEY                                                    1\n",
      "ORDERSTATUS                                                F\n",
      "TOTALPRICE                                           1023.79\n",
      "ORDERDATE                                         1992-01-01\n",
      "ORDERPRIORITY                                       1-URGENT\n",
      "CLERK                                        Clerk#000000006\n",
      "SHIPPRIORITY                                               0\n",
      "COMMENT               1AhQw1lwMCgO72NSlQC3gmimCy4y2C6iR127A3\n",
      "Unnamed: 9                                               NaN\n",
      "dtype: object\n",
      "\n",
      "\n",
      "Max Values:\n",
      "ORDERKEY                       36000000\n",
      "CUSTKEY                          899999\n",
      "ORDERSTATUS                           P\n",
      "TOTALPRICE                       700421\n",
      "ORDERDATE                    1998-08-02\n",
      "ORDERPRIORITY                     5-LOW\n",
      "CLERK                   Clerk#000005995\n",
      "SHIPPRIORITY                          0\n",
      "COMMENT          zzzzzP2B6OPmj6yQCCN5jj\n",
      "Unnamed: 9                          NaN\n",
      "dtype: object\n"
     ]
    }
   ],
   "source": [
    "print('Min Values:')\n",
    "print(data.apply(pd.Series.min))\n",
    "print('\\n\\nMax Values:')\n",
    "print(data.apply(pd.Series.max))"
   ]
  },
  {
   "cell_type": "code",
   "execution_count": null,
   "metadata": {},
   "outputs": [],
   "source": []
  }
 ],
 "metadata": {
  "kernelspec": {
   "display_name": "Python 3",
   "language": "python",
   "name": "python3"
  },
  "language_info": {
   "codemirror_mode": {
    "name": "ipython",
    "version": 3
   },
   "file_extension": ".py",
   "mimetype": "text/x-python",
   "name": "python",
   "nbconvert_exporter": "python",
   "pygments_lexer": "ipython3",
   "version": "3.6.5"
  }
 },
 "nbformat": 4,
 "nbformat_minor": 2
}
