{
 "cells": [
  {
   "cell_type": "markdown",
   "metadata": {},
   "source": [
    "# TuC Datenanalyse"
   ]
  },
  {
   "cell_type": "code",
   "execution_count": 35,
   "metadata": {},
   "outputs": [],
   "source": [
    "# imports\n",
    "%matplotlib inline\n",
    "from IPython.display import display\n",
    "import pandas as pd\n",
    "import seaborn as sns\n",
    "import matplotlib.pyplot as plt"
   ]
  },
  {
   "cell_type": "code",
   "execution_count": 36,
   "metadata": {},
   "outputs": [],
   "source": [
    "# load data and remove unnamed row\n",
    "data = pd.read_csv('../data/order.tbl.short', sep='|')\n",
    "data = data.loc[:, ~data.columns.str.contains('^Unnamed')]"
   ]
  },
  {
   "cell_type": "code",
   "execution_count": 37,
   "metadata": {},
   "outputs": [
    {
     "name": "stdout",
     "output_type": "stream",
     "text": [
      "Number of lines:  9000000\n",
      "Headers:  ORDERKEY,CUSTKEY,ORDERSTATUS,TOTALPRICE,ORDERDATE,ORDERPRIORITY,CLERK,SHIPPRIORITY,COMMENT\n",
      "First 3 rows:\n"
     ]
    },
    {
     "data": {
      "text/html": [
       "<div>\n",
       "<style scoped>\n",
       "    .dataframe tbody tr th:only-of-type {\n",
       "        vertical-align: middle;\n",
       "    }\n",
       "\n",
       "    .dataframe tbody tr th {\n",
       "        vertical-align: top;\n",
       "    }\n",
       "\n",
       "    .dataframe thead th {\n",
       "        text-align: right;\n",
       "    }\n",
       "</style>\n",
       "<table border=\"1\" class=\"dataframe\">\n",
       "  <thead>\n",
       "    <tr style=\"text-align: right;\">\n",
       "      <th></th>\n",
       "      <th>ORDERKEY</th>\n",
       "      <th>CUSTKEY</th>\n",
       "      <th>ORDERSTATUS</th>\n",
       "      <th>TOTALPRICE</th>\n",
       "      <th>ORDERDATE</th>\n",
       "      <th>ORDERPRIORITY</th>\n",
       "      <th>CLERK</th>\n",
       "      <th>SHIPPRIORITY</th>\n",
       "      <th>COMMENT</th>\n",
       "    </tr>\n",
       "  </thead>\n",
       "  <tbody>\n",
       "    <tr>\n",
       "      <th>0</th>\n",
       "      <td>1</td>\n",
       "      <td>468010</td>\n",
       "      <td>O</td>\n",
       "      <td>116666.88</td>\n",
       "      <td>1996-01-02</td>\n",
       "      <td>5-LOW</td>\n",
       "      <td>Clerk#000005704</td>\n",
       "      <td>0</td>\n",
       "      <td>jSmgxOi157kxm gCwQzgNOmiO0MkhCR4N BLj6OQBkl34k...</td>\n",
       "    </tr>\n",
       "    <tr>\n",
       "      <th>1</th>\n",
       "      <td>2</td>\n",
       "      <td>468010</td>\n",
       "      <td>O</td>\n",
       "      <td>19444.48</td>\n",
       "      <td>1996-01-02</td>\n",
       "      <td>5-LOW</td>\n",
       "      <td>Clerk#000005704</td>\n",
       "      <td>0</td>\n",
       "      <td>jP0BgO31m7Sw6LmC25k3RBw BmRkkjmzBCO4Qij67CN3mQ...</td>\n",
       "    </tr>\n",
       "    <tr>\n",
       "      <th>2</th>\n",
       "      <td>3</td>\n",
       "      <td>468010</td>\n",
       "      <td>O</td>\n",
       "      <td>116666.88</td>\n",
       "      <td>1996-01-02</td>\n",
       "      <td>1-URGENT</td>\n",
       "      <td>Clerk#000005704</td>\n",
       "      <td>0</td>\n",
       "      <td>xxSzlw2hwnM10PijiOz2gP02Qh3OQgm02ykNOwPxhl xRM...</td>\n",
       "    </tr>\n",
       "  </tbody>\n",
       "</table>\n",
       "</div>"
      ],
      "text/plain": [
       "   ORDERKEY  CUSTKEY ORDERSTATUS  TOTALPRICE   ORDERDATE ORDERPRIORITY  \\\n",
       "0         1   468010           O   116666.88  1996-01-02         5-LOW   \n",
       "1         2   468010           O    19444.48  1996-01-02         5-LOW   \n",
       "2         3   468010           O   116666.88  1996-01-02      1-URGENT   \n",
       "\n",
       "             CLERK  SHIPPRIORITY  \\\n",
       "0  Clerk#000005704             0   \n",
       "1  Clerk#000005704             0   \n",
       "2  Clerk#000005704             0   \n",
       "\n",
       "                                             COMMENT  \n",
       "0  jSmgxOi157kxm gCwQzgNOmiO0MkhCR4N BLj6OQBkl34k...  \n",
       "1  jP0BgO31m7Sw6LmC25k3RBw BmRkkjmzBCO4Qij67CN3mQ...  \n",
       "2  xxSzlw2hwnM10PijiOz2gP02Qh3OQgm02ykNOwPxhl xRM...  "
      ]
     },
     "execution_count": 37,
     "metadata": {},
     "output_type": "execute_result"
    }
   ],
   "source": [
    "# Overview\n",
    "number_of_rows = len(data)\n",
    "print('Number of lines: ', number_of_rows)\n",
    "header = data.columns.tolist()\n",
    "print('Headers: ', ','.join(header))\n",
    "print('First 3 rows:')\n",
    "data[:3]"
   ]
  },
  {
   "cell_type": "markdown",
   "metadata": {},
   "source": [
    "# Cardinalities"
   ]
  },
  {
   "cell_type": "markdown",
   "metadata": {},
   "source": [
    "### Unique Values per Column"
   ]
  },
  {
   "cell_type": "code",
   "execution_count": 57,
   "metadata": {},
   "outputs": [
    {
     "data": {
      "image/png": "[encoded data removed]",
      "text/plain": [
       "<Figure size 432x288 with 1 Axes>"
      ]
     },
     "metadata": {},
     "output_type": "display_data"
    }
   ],
   "source": [
    "ax = data.apply(pd.Series.nunique).plot(kind='bar', logy=True, title='Distict values per column')\n",
    "ax.set(xlabel=\"Columns\", ylabel=\"unique values (log scala)\")\n",
    "for p in ax.patches:\n",
    "    ax.annotate(str(p.get_height()), (p.get_x(), p.get_height()))"
   ]
  },
  {
   "cell_type": "markdown",
   "metadata": {},
   "source": [
    "### Value distribution per Column"
   ]
  },
  {
   "cell_type": "code",
   "execution_count": 54,
   "metadata": {},
   "outputs": [
    {
     "data": {
      "text/plain": [
       "<matplotlib.axes._subplots.AxesSubplot at 0x1183c14e0>"
      ]
     },
     "execution_count": 54,
     "metadata": {},
     "output_type": "execute_result"
    },
    {
     "data": {
      "image/png": "[encoded data removed]",
      "text/plain": [
       "<Figure size 432x288 with 1 Axes>"
      ]
     },
     "metadata": {},
     "output_type": "display_data"
    }
   ],
   "source": [
    "header = 'ORDERSTATUS'\n",
    "ax = data[header].value_counts().plot(kind='bar', logy=True, title=header)\n",
    "ax.set(xlabel=\"Value\", ylabel=\"Value Count\")\n",
    "for p in ax.patches:\n",
    "    ax.annotate(str(p.get_height()), (p.get_x(), p.get_height() * 1.2))\n",
    "ax"
   ]
  },
  {
   "cell_type": "code",
   "execution_count": 55,
   "metadata": {},
   "outputs": [
    {
     "data": {
      "text/plain": [
       "<matplotlib.axes._subplots.AxesSubplot at 0x110da4550>"
      ]
     },
     "execution_count": 55,
     "metadata": {},
     "output_type": "execute_result"
    },
    {
     "data": {
      "image/png": "[encoded data removed]",
      "text/plain": [
       "<Figure size 432x288 with 1 Axes>"
      ]
     },
     "metadata": {},
     "output_type": "display_data"
    }
   ],
   "source": [
    "header = 'TOTALPRICE'\n",
    "# TODO find better plot type\n",
    "ax = data[header].value_counts().plot(kind='hist', title=header, logy=True)\n",
    "ax.set(xlabel=\"Value\", ylabel=\"Value Count\")\n",
    "ax"
   ]
  },
  {
   "cell_type": "code",
   "execution_count": 56,
   "metadata": {},
   "outputs": [
    {
     "data": {
      "text/plain": [
       "<matplotlib.axes._subplots.AxesSubplot at 0x117ff1710>"
      ]
     },
     "execution_count": 56,
     "metadata": {},
     "output_type": "execute_result"
    },
    {
     "data": {
      "image/png": "[encoded data removed]",
      "text/plain": [
       "<Figure size 432x288 with 1 Axes>"
      ]
     },
     "metadata": {},
     "output_type": "display_data"
    }
   ],
   "source": [
    "header = 'ORDERPRIORITY'\n",
    "min_value = data[header].value_counts().min()\n",
    "max_value = data[header].value_counts().max()\n",
    "ax = data[header].value_counts().plot(kind='bar', title=header)\n",
    "ax.set(xlabel=\"Value\", ylabel=\"Value Count\", ylim = (min_value * 0.999, max_value * 1.001))\n",
    "for p in ax.patches:\n",
    "    ax.annotate(str(p.get_height()), (p.get_x(), p.get_height()))\n",
    "ax"
   ]
  },
  {
   "cell_type": "code",
   "execution_count": 29,
   "metadata": {},
   "outputs": [
    {
     "data": {
      "text/plain": [
       "<matplotlib.axes._subplots.AxesSubplot at 0x117b4cc88>"
      ]
     },
     "execution_count": 29,
     "metadata": {},
     "output_type": "execute_result"
    },
    {
     "data": {
      "image/png": "[encoded data removed]",
      "text/plain": [
       "<Figure size 432x288 with 1 Axes>"
      ]
     },
     "metadata": {},
     "output_type": "display_data"
    }
   ],
   "source": [
    "sns.barplot(data['ORDERSTATUS'].value_counts())"
   ]
  },
  {
   "cell_type": "markdown",
   "metadata": {},
   "source": [
    "# Null Values per Column"
   ]
  },
  {
   "cell_type": "code",
   "execution_count": 30,
   "metadata": {},
   "outputs": [
    {
     "data": {
      "text/plain": [
       "ORDERKEY         0\n",
       "CUSTKEY          0\n",
       "ORDERSTATUS      0\n",
       "TOTALPRICE       0\n",
       "ORDERDATE        0\n",
       "ORDERPRIORITY    0\n",
       "CLERK            0\n",
       "SHIPPRIORITY     0\n",
       "COMMENT          0\n",
       "dtype: int64"
      ]
     },
     "execution_count": 30,
     "metadata": {},
     "output_type": "execute_result"
    }
   ],
   "source": [
    "data.isnull().sum()"
   ]
  },
  {
   "cell_type": "code",
   "execution_count": 31,
   "metadata": {},
   "outputs": [
    {
     "data": {
      "text/plain": [
       "ORDERKEY           int64\n",
       "CUSTKEY            int64\n",
       "ORDERSTATUS       object\n",
       "TOTALPRICE       float64\n",
       "ORDERDATE         object\n",
       "ORDERPRIORITY     object\n",
       "CLERK             object\n",
       "SHIPPRIORITY       int64\n",
       "COMMENT           object\n",
       "dtype: object"
      ]
     },
     "execution_count": 31,
     "metadata": {},
     "output_type": "execute_result"
    }
   ],
   "source": [
    "data.dtypes"
   ]
  },
  {
   "cell_type": "markdown",
   "metadata": {},
   "source": [
    "## Min & Max Values\n"
   ]
  },
  {
   "cell_type": "code",
   "execution_count": 32,
   "metadata": {},
   "outputs": [
    {
     "name": "stdout",
     "output_type": "stream",
     "text": [
      "Min Values:\n",
      "ORDERKEY                                                   1\n",
      "CUSTKEY                                                    1\n",
      "ORDERSTATUS                                                F\n",
      "TOTALPRICE                                           1023.79\n",
      "ORDERDATE                                         1992-01-01\n",
      "ORDERPRIORITY                                       1-URGENT\n",
      "CLERK                                        Clerk#000000006\n",
      "SHIPPRIORITY                                               0\n",
      "COMMENT               1AhQw1lwMCgO72NSlQC3gmimCy4y2C6iR127A3\n",
      "dtype: object\n",
      "\n",
      "\n",
      "Max Values:\n",
      "ORDERKEY                       36000000\n",
      "CUSTKEY                          899999\n",
      "ORDERSTATUS                           P\n",
      "TOTALPRICE                       700421\n",
      "ORDERDATE                    1998-08-02\n",
      "ORDERPRIORITY                     5-LOW\n",
      "CLERK                   Clerk#000005995\n",
      "SHIPPRIORITY                          0\n",
      "COMMENT          zzzzzP2B6OPmj6yQCCN5jj\n",
      "dtype: object\n"
     ]
    }
   ],
   "source": [
    "print('Min Values:')\n",
    "print(data.apply(pd.Series.min))\n",
    "print('\\n\\nMax Values:')\n",
    "print(data.apply(pd.Series.max))"
   ]
  },
  {
   "cell_type": "markdown",
   "metadata": {},
   "source": [
    "# Compression"
   ]
  },
  {
   "cell_type": "code",
   "execution_count": 33,
   "metadata": {},
   "outputs": [
    {
     "data": {
      "text/plain": [
       "Text(0.5,0,'Column Name')"
      ]
     },
     "execution_count": 33,
     "metadata": {},
     "output_type": "execute_result"
    },
    {
     "data": {
      "image/png": "[encoded data removed]",
      "text/plain": [
       "<Figure size 432x288 with 1 Axes>"
      ]
     },
     "metadata": {},
     "output_type": "display_data"
    }
   ],
   "source": [
    "# TODO Add Mock csv\n",
    "data = pd.read_csv('../data/compression_ratios.csv', sep=',')\n",
    "plot = plt.bar(data.columns.tolist(), list(data.iloc[0]))\n",
    "plt.xticks(rotation=90)\n",
    "plt.title('Compression Rates')\n",
    "plt.ylabel('Ratio')\n",
    "plt.xlabel('Column Name')"
   ]
  },
  {
   "cell_type": "code",
   "execution_count": 34,
   "metadata": {},
   "outputs": [
    {
     "data": {
      "text/plain": [
       "<matplotlib.axes._subplots.AxesSubplot at 0x1843bd588>"
      ]
     },
     "execution_count": 34,
     "metadata": {},
     "output_type": "execute_result"
    },
    {
     "data": {
      "image/png": "[encoded data removed]",
      "text/plain": [
       "<Figure size 432x288 with 1 Axes>"
      ]
     },
     "metadata": {},
     "output_type": "display_data"
    }
   ],
   "source": [
    "# TODO Add Mock csv\n",
    "data = pd.read_csv('../data/compression_times.csv', sep=',')\n",
    "ax = data.apply(pd.Series.mean).plot(kind='bar', title='Average Compression Time per Column')\n",
    "ax.set(xlabel='Columns', ylabel='Time in ms')\n",
    "ax"
   ]
  },
  {
   "cell_type": "code",
   "execution_count": null,
   "metadata": {},
   "outputs": [],
   "source": []
  }
 ],
 "metadata": {
  "kernelspec": {
   "display_name": "Python 3",
   "language": "python",
   "name": "python3"
  },
  "language_info": {
   "codemirror_mode": {
    "name": "ipython",
    "version": 3
   },
   "file_extension": ".py",
   "mimetype": "text/x-python",
   "name": "python",
   "nbconvert_exporter": "python",
   "pygments_lexer": "ipython3",
   "version": "3.6.5"
  }
 },
 "nbformat": 4,
 "nbformat_minor": 2
}
