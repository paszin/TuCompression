{
 "cells": [
  {
   "cell_type": "markdown",
   "metadata": {},
   "source": [
    "# Aggregates"
   ]
  },
  {
   "cell_type": "code",
   "execution_count": 63,
   "metadata": {},
   "outputs": [],
   "source": [
    "# imports\n",
    "%matplotlib inline\n",
    "import os\n",
    "from IPython.display import display\n",
    "import pandas as pd\n",
    "import seaborn as sns\n",
    "import matplotlib.pyplot as plt\n",
    "import numpy as np"
   ]
  },
  {
   "cell_type": "code",
   "execution_count": 72,
   "metadata": {},
   "outputs": [],
   "source": [
    "def get_title_from_file(file_name):\n",
    "    file_name = file_name.replace(\"AGG__\", \"\").replace(\"_\", \" \").replace(\".csv\", \"\")\n",
    "    return file_name"
   ]
  },
  {
   "cell_type": "code",
   "execution_count": 77,
   "metadata": {},
   "outputs": [
    {
     "name": "stdout",
     "output_type": "stream",
     "text": [
      "TEST DATA: \n"
     ]
    },
    {
     "data": {
      "image/png": "[encoded data removed]",
      "text/plain": [
       "<Figure size 432x288 with 1 Axes>"
      ]
     },
     "metadata": {},
     "output_type": "display_data"
    }
   ],
   "source": [
    "data_dir = \"../data/dictionary/\"\n",
    "files = os.listdir(data_dir)\n",
    "# FIXME currently only test data\n",
    "print(\"TEST DATA: \")\n",
    "label = []\n",
    "means = []\n",
    "error = []\n",
    "for i, file_name in enumerate(files):\n",
    "    if not file_name.lower().startswith('agg__'):\n",
    "        continue\n",
    "    data = pd.read_csv(data_dir + file_name).iloc[:,0]\n",
    "    \n",
    "    # Create Arrays for the plot\n",
    "    label.append(get_title_from_file(file_name))\n",
    "    means.append(data.mean())\n",
    "    error.append(data.std())\n",
    "    \n",
    "x_pos = np.arange(len(label))\n",
    "\n",
    "fig, ax = plt.subplots()\n",
    "ax.bar(x_pos, means, yerr=error, align='center', alpha=0.5, ecolor='black', capsize=10)\n",
    "ax.set_ylabel('Time in ms')\n",
    "ax.set_xticks(x_pos)\n",
    "ax.set_xticklabels(label)\n",
    "ax.set_title(\"Mean Aggregate Times\")\n",
    "ax.yaxis.grid(True)\n",
    "\n",
    "plt.tight_layout()\n",
    "plt.show()\n",
    "\n",
    "       "
   ]
  },
  {
   "cell_type": "code",
   "execution_count": null,
   "metadata": {},
   "outputs": [],
   "source": []
  }
 ],
 "metadata": {
  "kernelspec": {
   "display_name": "Python 3",
   "language": "python",
   "name": "python3"
  },
  "language_info": {
   "codemirror_mode": {
    "name": "ipython",
    "version": 3
   },
   "file_extension": ".py",
   "mimetype": "text/x-python",
   "name": "python",
   "nbconvert_exporter": "python",
   "pygments_lexer": "ipython3",
   "version": "3.6.5"
  }
 },
 "nbformat": 4,
 "nbformat_minor": 2
}
